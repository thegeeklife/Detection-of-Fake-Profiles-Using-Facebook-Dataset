{
 "cells": [
  {
   "cell_type": "code",
   "execution_count": 15,
   "metadata": {},
   "outputs": [],
   "source": [
    "import numpy as np\n",
    "np.random.seed(21)\n",
    "import pandas as pd\n",
    "import keras\n",
    "from keras.models import Sequential\n",
    "from keras.layers import Dense, Activation, Dropout\n",
    "from keras import regularizers\n",
    "from keras.optimizers import SGD\n",
    "from sklearn.model_selection import train_test_split\n",
    "import sexmachine.detector as gender"
   ]
  },
  {
   "cell_type": "code",
   "execution_count": 16,
   "metadata": {},
   "outputs": [
    {
     "name": "stdout",
     "output_type": "stream",
     "text": [
      "reading datasets.....\n",
      "\n",
      "extracting featues.....\n",
      "\n",
      "Index([u'statuses_count', u'followers_count', u'friends_count',\n",
      "       u'favourites_count', u'listed_count', u'sex_code', u'lang_code'],\n",
      "      dtype='object')\n",
      "       statuses_count  followers_count  friends_count  favourites_count  \\\n",
      "count     2818.000000      2818.000000    2818.000000       2818.000000   \n",
      "mean      1672.198368       371.105039     395.363023        234.541164   \n",
      "std       4884.669157      8022.631339     465.694322       1445.847248   \n",
      "min          0.000000         0.000000       0.000000          0.000000   \n",
      "25%         35.000000        17.000000     168.000000          0.000000   \n",
      "50%         77.000000        26.000000     306.000000          0.000000   \n",
      "75%       1087.750000       111.000000     519.000000         37.000000   \n",
      "max      79876.000000    408372.000000   12773.000000      44349.000000   \n",
      "\n",
      "       listed_count     sex_code    lang_code  \n",
      "count   2818.000000  2818.000000  2818.000000  \n",
      "mean       2.818666    -0.180270     2.851313  \n",
      "std       23.480430     1.679125     1.992950  \n",
      "min        0.000000    -2.000000     0.000000  \n",
      "25%        0.000000    -2.000000     1.000000  \n",
      "50%        0.000000     0.000000     1.000000  \n",
      "75%        1.000000     2.000000     5.000000  \n",
      "max      744.000000     2.000000     7.000000  \n"
     ]
    }
   ],
   "source": [
    "def read_datasets():\n",
    "    \"\"\" Reads users profile from csv files \"\"\"\n",
    "    genuine_users = pd.read_csv(\"data/users.csv\")\n",
    "    fake_users = pd.read_csv(\"data/fusers.csv\")\n",
    "    x=pd.concat([genuine_users,fake_users])   \n",
    "    y=len(fake_users)*[0] + len(genuine_users)*[1]\n",
    "    return x,y\n",
    "\n",
    "def predict_sex(name):\n",
    "    sex_predictor = gender.Detector(unknown_value=u\"unknown\",case_sensitive=False)\n",
    "    first_name= name.str.split(' ').str.get(0)\n",
    "    sex= first_name.apply(sex_predictor.get_gender)\n",
    "    sex_dict={'female': -2, 'mostly_female': -1,'unknown':0,'mostly_male':1, 'male': 2}\n",
    "    sex_code = sex.map(sex_dict).astype(int)\n",
    "    return sex_code\n",
    "\n",
    "def extract_features(x):\n",
    "    lang_list = list(enumerate(np.unique(x['lang'])))   \n",
    "    lang_dict = { name : i for i, name in lang_list }             \n",
    "    x.loc[:,'lang_code'] = x['lang'].map( lambda x: lang_dict[x]).astype(int)    \n",
    "    x.loc[:,'sex_code']=predict_sex(x['name'])\n",
    "    feature_columns_to_use = ['statuses_count','followers_count','friends_count','favourites_count','listed_count','sex_code','lang_code']\n",
    "    x=x.loc[:,feature_columns_to_use]\n",
    "    return x\n",
    "\n",
    "print \"reading datasets.....\\n\"\n",
    "x,y=read_datasets()\n",
    "x.describe()\n",
    "\n",
    "print \"extracting featues.....\\n\"\n",
    "x=extract_features(x)\n",
    "print x.columns\n",
    "print x.describe()"
   ]
  },
  {
   "cell_type": "code",
   "execution_count": 17,
   "metadata": {
    "scrolled": true
   },
   "outputs": [
    {
     "name": "stdout",
     "output_type": "stream",
     "text": [
      "spliting datasets in train and test dataset...\n",
      "\n"
     ]
    }
   ],
   "source": [
    "print \"spliting datasets in train and test dataset...\\n\"\n",
    "X_train,X_test,y_train,y_test = train_test_split(x, y, test_size=0.20, random_state=44)"
   ]
  },
  {
   "cell_type": "code",
   "execution_count": 18,
   "metadata": {},
   "outputs": [
    {
     "name": "stdout",
     "output_type": "stream",
     "text": [
      "[[0. 1. 0.]\n",
      " [1. 0. 0.]\n",
      " [1. 0. 0.]]\n"
     ]
    }
   ],
   "source": [
    "n_classes = 3\n",
    "y_train_e = keras.utils.to_categorical(y_train, n_classes)\n",
    "y_test_e = keras.utils.to_categorical(y_test, n_classes)\n",
    "print(y_train_e[0:3])"
   ]
  },
  {
   "cell_type": "code",
   "execution_count": 19,
   "metadata": {},
   "outputs": [],
   "source": [
    "model = Sequential()\n",
    "# for l2 regularizer. this doesn't perform as good as dropouts\n",
    "# model.add(Dense(32, activation='relu', input_dim=4, kernel_regularizer=regularizers.l2(0.01))) \n",
    "# tanh is better than relu in this case\n",
    "model.add(Dense(32, activation='relu', input_shape=(7,)))\n",
    "model.add(Dropout(0.5))\n",
    "model.add(Dense(32, activation='relu'))\n",
    "model.add(Dropout(0.5))\n",
    "model.add(Dense(3, activation='sigmoid'))"
   ]
  },
  {
   "cell_type": "code",
   "execution_count": 20,
   "metadata": {},
   "outputs": [],
   "source": [
    "m1 = model.compile(loss='binary_crossentropy', optimizer='adam', metrics=['accuracy'])"
   ]
  },
  {
   "cell_type": "code",
   "execution_count": 21,
   "metadata": {},
   "outputs": [
    {
     "name": "stdout",
     "output_type": "stream",
     "text": [
      "Train on 2254 samples, validate on 564 samples\n",
      "Epoch 1/150\n",
      "2254/2254 [==============================] - 0s 138us/step - loss: 143.7724 - accuracy: 0.5237 - val_loss: 9.4338 - val_accuracy: 0.8818\n",
      "Epoch 2/150\n",
      "2254/2254 [==============================] - 0s 39us/step - loss: 67.2328 - accuracy: 0.6457 - val_loss: 8.1556 - val_accuracy: 0.9043\n",
      "Epoch 3/150\n",
      "2254/2254 [==============================] - 0s 50us/step - loss: 61.7302 - accuracy: 0.6976 - val_loss: 7.8666 - val_accuracy: 0.9332\n",
      "Epoch 4/150\n",
      "2254/2254 [==============================] - 0s 65us/step - loss: 68.0267 - accuracy: 0.7249 - val_loss: 7.9977 - val_accuracy: 0.9450\n",
      "Epoch 5/150\n",
      "2254/2254 [==============================] - 0s 60us/step - loss: 35.6609 - accuracy: 0.7453 - val_loss: 10.7687 - val_accuracy: 0.9486\n",
      "Epoch 6/150\n",
      "2254/2254 [==============================] - 0s 44us/step - loss: 24.9995 - accuracy: 0.7773 - val_loss: 9.9476 - val_accuracy: 0.9480\n",
      "Epoch 7/150\n",
      "2254/2254 [==============================] - 0s 95us/step - loss: 33.2427 - accuracy: 0.7795 - val_loss: 9.7030 - val_accuracy: 0.9498\n",
      "Epoch 8/150\n",
      "2254/2254 [==============================] - 0s 76us/step - loss: 32.9218 - accuracy: 0.7928 - val_loss: 9.1283 - val_accuracy: 0.9480\n",
      "Epoch 9/150\n",
      "2254/2254 [==============================] - 0s 67us/step - loss: 36.5309 - accuracy: 0.8035 - val_loss: 9.3508 - val_accuracy: 0.9468\n",
      "Epoch 10/150\n",
      "2254/2254 [==============================] - 0s 50us/step - loss: 32.6591 - accuracy: 0.8066 - val_loss: 9.4115 - val_accuracy: 0.9450\n",
      "Epoch 11/150\n",
      "2254/2254 [==============================] - 0s 47us/step - loss: 16.4755 - accuracy: 0.8212 - val_loss: 8.8867 - val_accuracy: 0.9415\n",
      "Epoch 12/150\n",
      "2254/2254 [==============================] - 0s 47us/step - loss: 14.2333 - accuracy: 0.8285 - val_loss: 8.5499 - val_accuracy: 0.9385\n",
      "Epoch 13/150\n",
      "2254/2254 [==============================] - 0s 42us/step - loss: 8.5080 - accuracy: 0.8181 - val_loss: 8.2275 - val_accuracy: 0.9379\n",
      "Epoch 14/150\n",
      "2254/2254 [==============================] - 0s 42us/step - loss: 15.2197 - accuracy: 0.8261 - val_loss: 8.9311 - val_accuracy: 0.9456\n",
      "Epoch 15/150\n",
      "2254/2254 [==============================] - 0s 68us/step - loss: 8.3560 - accuracy: 0.8353 - val_loss: 9.0884 - val_accuracy: 0.9444\n",
      "Epoch 16/150\n",
      "2254/2254 [==============================] - 0s 43us/step - loss: 6.4456 - accuracy: 0.8259 - val_loss: 8.5465 - val_accuracy: 0.9433\n",
      "Epoch 17/150\n",
      "2254/2254 [==============================] - 0s 40us/step - loss: 7.7817 - accuracy: 0.8313 - val_loss: 8.2282 - val_accuracy: 0.9439\n",
      "Epoch 18/150\n",
      "2254/2254 [==============================] - 0s 41us/step - loss: 8.5980 - accuracy: 0.8301 - val_loss: 9.0275 - val_accuracy: 0.9415\n",
      "Epoch 19/150\n",
      "2254/2254 [==============================] - 0s 47us/step - loss: 4.6227 - accuracy: 0.8310 - val_loss: 8.9790 - val_accuracy: 0.9391\n",
      "Epoch 20/150\n",
      "2254/2254 [==============================] - 0s 41us/step - loss: 5.0848 - accuracy: 0.8305 - val_loss: 8.7007 - val_accuracy: 0.9391\n",
      "Epoch 21/150\n",
      "2254/2254 [==============================] - 0s 40us/step - loss: 4.7822 - accuracy: 0.8376 - val_loss: 9.0793 - val_accuracy: 0.9421\n",
      "Epoch 22/150\n",
      "2254/2254 [==============================] - 0s 49us/step - loss: 19.9965 - accuracy: 0.8394 - val_loss: 10.0537 - val_accuracy: 0.9403\n",
      "Epoch 23/150\n",
      "2254/2254 [==============================] - 0s 67us/step - loss: 7.9773 - accuracy: 0.8484 - val_loss: 11.6180 - val_accuracy: 0.9415\n",
      "Epoch 24/150\n",
      "2254/2254 [==============================] - 0s 41us/step - loss: 5.1968 - accuracy: 0.8271 - val_loss: 11.9769 - val_accuracy: 0.9374\n",
      "Epoch 25/150\n",
      "2254/2254 [==============================] - 0s 48us/step - loss: 6.2181 - accuracy: 0.8336 - val_loss: 12.1408 - val_accuracy: 0.9403\n",
      "Epoch 26/150\n",
      "2254/2254 [==============================] - 0s 48us/step - loss: 15.8132 - accuracy: 0.8459 - val_loss: 13.1905 - val_accuracy: 0.9421\n",
      "Epoch 27/150\n",
      "2254/2254 [==============================] - 0s 66us/step - loss: 6.1245 - accuracy: 0.8472 - val_loss: 13.9907 - val_accuracy: 0.9403\n",
      "Epoch 28/150\n",
      "2254/2254 [==============================] - 0s 51us/step - loss: 2.4265 - accuracy: 0.8375 - val_loss: 13.5979 - val_accuracy: 0.9362\n",
      "Epoch 29/150\n",
      "2254/2254 [==============================] - 0s 48us/step - loss: 2.3290 - accuracy: 0.8360 - val_loss: 13.3898 - val_accuracy: 0.9344\n",
      "Epoch 30/150\n",
      "2254/2254 [==============================] - 0s 41us/step - loss: 1.9804 - accuracy: 0.8403 - val_loss: 13.1965 - val_accuracy: 0.9338\n",
      "Epoch 31/150\n",
      "2254/2254 [==============================] - 0s 41us/step - loss: 6.4668 - accuracy: 0.8463 - val_loss: 13.5959 - val_accuracy: 0.9433\n",
      "Epoch 32/150\n",
      "2254/2254 [==============================] - 0s 41us/step - loss: 1.6947 - accuracy: 0.8509 - val_loss: 13.4872 - val_accuracy: 0.9409\n",
      "Epoch 33/150\n",
      "2254/2254 [==============================] - 0s 49us/step - loss: 1.7602 - accuracy: 0.8469 - val_loss: 13.3345 - val_accuracy: 0.9374\n",
      "Epoch 34/150\n",
      "2254/2254 [==============================] - 0s 41us/step - loss: 1.4714 - accuracy: 0.8446 - val_loss: 13.0724 - val_accuracy: 0.9368\n",
      "Epoch 35/150\n",
      "2254/2254 [==============================] - 0s 48us/step - loss: 1.7365 - accuracy: 0.8489 - val_loss: 12.9102 - val_accuracy: 0.9320\n",
      "Epoch 36/150\n",
      "2254/2254 [==============================] - 0s 50us/step - loss: 1.0375 - accuracy: 0.8407 - val_loss: 12.7439 - val_accuracy: 0.9344\n",
      "Epoch 37/150\n",
      "2254/2254 [==============================] - 0s 39us/step - loss: 1.9373 - accuracy: 0.8459 - val_loss: 12.3836 - val_accuracy: 0.9385\n",
      "Epoch 38/150\n",
      "2254/2254 [==============================] - 0s 42us/step - loss: 1.4383 - accuracy: 0.8397 - val_loss: 12.0470 - val_accuracy: 0.9415\n",
      "Epoch 39/150\n",
      "2254/2254 [==============================] - 0s 35us/step - loss: 1.4688 - accuracy: 0.8298 - val_loss: 11.8508 - val_accuracy: 0.9409\n",
      "Epoch 40/150\n",
      "2254/2254 [==============================] - 0s 50us/step - loss: 1.2241 - accuracy: 0.8579 - val_loss: 11.8075 - val_accuracy: 0.9397\n",
      "Epoch 41/150\n",
      "2254/2254 [==============================] - 0s 49us/step - loss: 1.0506 - accuracy: 0.8703 - val_loss: 11.6809 - val_accuracy: 0.9450\n",
      "Epoch 42/150\n",
      "2254/2254 [==============================] - 0s 38us/step - loss: 1.9708 - accuracy: 0.8693 - val_loss: 11.5791 - val_accuracy: 0.9533\n",
      "Epoch 43/150\n",
      "2254/2254 [==============================] - 0s 48us/step - loss: 1.4779 - accuracy: 0.8706 - val_loss: 11.3855 - val_accuracy: 0.9521\n",
      "Epoch 44/150\n",
      "2254/2254 [==============================] - 0s 43us/step - loss: 1.0462 - accuracy: 0.8594 - val_loss: 11.1850 - val_accuracy: 0.9515\n",
      "Epoch 45/150\n",
      "2254/2254 [==============================] - 0s 42us/step - loss: 0.7243 - accuracy: 0.8638 - val_loss: 11.0857 - val_accuracy: 0.9509\n",
      "Epoch 46/150\n",
      "2254/2254 [==============================] - 0s 47us/step - loss: 0.9455 - accuracy: 0.8725 - val_loss: 10.8896 - val_accuracy: 0.9504\n",
      "Epoch 47/150\n",
      "2254/2254 [==============================] - 0s 37us/step - loss: 1.0904 - accuracy: 0.8685 - val_loss: 10.6583 - val_accuracy: 0.9498\n",
      "Epoch 48/150\n",
      "2254/2254 [==============================] - 0s 46us/step - loss: 1.4091 - accuracy: 0.8675 - val_loss: 10.7564 - val_accuracy: 0.9533\n",
      "Epoch 49/150\n",
      "2254/2254 [==============================] - 0s 39us/step - loss: 1.1624 - accuracy: 0.8824 - val_loss: 10.5882 - val_accuracy: 0.9563\n",
      "Epoch 50/150\n",
      "2254/2254 [==============================] - 0s 42us/step - loss: 0.8599 - accuracy: 0.9027 - val_loss: 10.4827 - val_accuracy: 0.9586\n",
      "Epoch 51/150\n",
      "2254/2254 [==============================] - 0s 37us/step - loss: 0.6865 - accuracy: 0.9012 - val_loss: 10.4635 - val_accuracy: 0.9468\n",
      "Epoch 52/150\n",
      "2254/2254 [==============================] - 0s 41us/step - loss: 1.9358 - accuracy: 0.8972 - val_loss: 10.3221 - val_accuracy: 0.9610\n",
      "Epoch 53/150\n",
      "2254/2254 [==============================] - 0s 40us/step - loss: 1.7807 - accuracy: 0.8999 - val_loss: 9.9977 - val_accuracy: 0.9616\n",
      "Epoch 54/150\n",
      "2254/2254 [==============================] - 0s 39us/step - loss: 5.6420 - accuracy: 0.9011 - val_loss: 11.2804 - val_accuracy: 0.9610\n",
      "Epoch 55/150\n",
      "2254/2254 [==============================] - 0s 39us/step - loss: 5.5497 - accuracy: 0.9018 - val_loss: 11.0988 - val_accuracy: 0.9610\n",
      "Epoch 56/150\n"
     ]
    },
    {
     "name": "stdout",
     "output_type": "stream",
     "text": [
      "2254/2254 [==============================] - 0s 40us/step - loss: 0.6732 - accuracy: 0.9003 - val_loss: 11.0622 - val_accuracy: 0.9610\n",
      "Epoch 57/150\n",
      "2254/2254 [==============================] - 0s 38us/step - loss: 0.6772 - accuracy: 0.9018 - val_loss: 10.9370 - val_accuracy: 0.9616\n",
      "Epoch 58/150\n",
      "2254/2254 [==============================] - 0s 38us/step - loss: 0.8062 - accuracy: 0.9058 - val_loss: 10.7342 - val_accuracy: 0.9622\n",
      "Epoch 59/150\n",
      "2254/2254 [==============================] - 0s 42us/step - loss: 0.6159 - accuracy: 0.9052 - val_loss: 10.7517 - val_accuracy: 0.9622\n",
      "Epoch 60/150\n",
      "2254/2254 [==============================] - 0s 38us/step - loss: 0.7316 - accuracy: 0.9055 - val_loss: 10.6319 - val_accuracy: 0.9616\n",
      "Epoch 61/150\n",
      "2254/2254 [==============================] - 0s 35us/step - loss: 0.4699 - accuracy: 0.9042 - val_loss: 10.4543 - val_accuracy: 0.9616\n",
      "Epoch 62/150\n",
      "2254/2254 [==============================] - 0s 32us/step - loss: 0.7877 - accuracy: 0.9058 - val_loss: 10.3374 - val_accuracy: 0.9616\n",
      "Epoch 63/150\n",
      "2254/2254 [==============================] - 0s 36us/step - loss: 0.6058 - accuracy: 0.9059 - val_loss: 10.1122 - val_accuracy: 0.9622\n",
      "Epoch 64/150\n",
      "2254/2254 [==============================] - 0s 61us/step - loss: 0.5922 - accuracy: 0.9039 - val_loss: 10.0504 - val_accuracy: 0.9616\n",
      "Epoch 65/150\n",
      "2254/2254 [==============================] - 0s 67us/step - loss: 0.6567 - accuracy: 0.9008 - val_loss: 9.8642 - val_accuracy: 0.9622\n",
      "Epoch 66/150\n",
      "2254/2254 [==============================] - 0s 41us/step - loss: 0.6304 - accuracy: 0.9003 - val_loss: 9.7111 - val_accuracy: 0.9622\n",
      "Epoch 67/150\n",
      "2254/2254 [==============================] - 0s 35us/step - loss: 1.6764 - accuracy: 0.9017 - val_loss: 9.1951 - val_accuracy: 0.9622\n",
      "Epoch 68/150\n",
      "2254/2254 [==============================] - 0s 35us/step - loss: 0.5671 - accuracy: 0.9139 - val_loss: 9.0235 - val_accuracy: 0.9622\n",
      "Epoch 69/150\n",
      "2254/2254 [==============================] - 0s 33us/step - loss: 3.1298 - accuracy: 0.9040 - val_loss: 8.3200 - val_accuracy: 0.9622\n",
      "Epoch 70/150\n",
      "2254/2254 [==============================] - 0s 33us/step - loss: 0.6806 - accuracy: 0.9049 - val_loss: 8.3014 - val_accuracy: 0.9598\n",
      "Epoch 71/150\n",
      "2254/2254 [==============================] - 0s 33us/step - loss: 0.4290 - accuracy: 0.9028 - val_loss: 8.2869 - val_accuracy: 0.9622\n",
      "Epoch 72/150\n",
      "2254/2254 [==============================] - 0s 32us/step - loss: 0.3157 - accuracy: 0.9151 - val_loss: 8.2716 - val_accuracy: 0.9622\n",
      "Epoch 73/150\n",
      "2254/2254 [==============================] - 0s 36us/step - loss: 0.7019 - accuracy: 0.9104 - val_loss: 8.2533 - val_accuracy: 0.9628\n",
      "Epoch 74/150\n",
      "2254/2254 [==============================] - 0s 39us/step - loss: 1.1762 - accuracy: 0.9114 - val_loss: 8.0862 - val_accuracy: 0.9628\n",
      "Epoch 75/150\n",
      "2254/2254 [==============================] - 0s 34us/step - loss: 0.8068 - accuracy: 0.9163 - val_loss: 7.8316 - val_accuracy: 0.9634\n",
      "Epoch 76/150\n",
      "2254/2254 [==============================] - 0s 33us/step - loss: 0.4401 - accuracy: 0.9187 - val_loss: 7.7688 - val_accuracy: 0.9628\n",
      "Epoch 77/150\n",
      "2254/2254 [==============================] - 0s 33us/step - loss: 0.6829 - accuracy: 0.9215 - val_loss: 7.5304 - val_accuracy: 0.9634\n",
      "Epoch 78/150\n",
      "2254/2254 [==============================] - 0s 33us/step - loss: 0.4492 - accuracy: 0.9238 - val_loss: 7.3590 - val_accuracy: 0.9634\n",
      "Epoch 79/150\n",
      "2254/2254 [==============================] - 0s 35us/step - loss: 0.3518 - accuracy: 0.9234 - val_loss: 7.2045 - val_accuracy: 0.9634\n",
      "Epoch 80/150\n",
      "2254/2254 [==============================] - 0s 34us/step - loss: 0.4514 - accuracy: 0.9227 - val_loss: 6.9810 - val_accuracy: 0.9628\n",
      "Epoch 81/150\n",
      "2254/2254 [==============================] - 0s 33us/step - loss: 1.3572 - accuracy: 0.9188 - val_loss: 7.0161 - val_accuracy: 0.9634\n",
      "Epoch 82/150\n",
      "2254/2254 [==============================] - 0s 37us/step - loss: 0.3396 - accuracy: 0.9224 - val_loss: 7.0370 - val_accuracy: 0.9634\n",
      "Epoch 83/150\n",
      "2254/2254 [==============================] - 0s 35us/step - loss: 2.7913 - accuracy: 0.9281 - val_loss: 6.9755 - val_accuracy: 0.9634\n",
      "Epoch 84/150\n",
      "2254/2254 [==============================] - 0s 33us/step - loss: 0.3332 - accuracy: 0.9250 - val_loss: 6.9205 - val_accuracy: 0.9634\n",
      "Epoch 85/150\n",
      "2254/2254 [==============================] - 0s 32us/step - loss: 0.3072 - accuracy: 0.9272 - val_loss: 6.8902 - val_accuracy: 0.9634\n",
      "Epoch 86/150\n",
      "2254/2254 [==============================] - 0s 32us/step - loss: 0.2676 - accuracy: 0.9225 - val_loss: 6.8622 - val_accuracy: 0.9634\n",
      "Epoch 87/150\n",
      "2254/2254 [==============================] - 0s 38us/step - loss: 1.1699 - accuracy: 0.9261 - val_loss: 6.9429 - val_accuracy: 0.9634\n",
      "Epoch 88/150\n",
      "2254/2254 [==============================] - 0s 38us/step - loss: 0.2342 - accuracy: 0.9262 - val_loss: 7.0961 - val_accuracy: 0.9634\n",
      "Epoch 89/150\n",
      "2254/2254 [==============================] - 0s 48us/step - loss: 0.3366 - accuracy: 0.9228 - val_loss: 7.0534 - val_accuracy: 0.9634\n",
      "Epoch 90/150\n",
      "2254/2254 [==============================] - 0s 50us/step - loss: 0.8614 - accuracy: 0.9249 - val_loss: 6.4458 - val_accuracy: 0.9634\n",
      "Epoch 91/150\n",
      "2254/2254 [==============================] - 0s 49us/step - loss: 0.2849 - accuracy: 0.9253 - val_loss: 6.2990 - val_accuracy: 0.9634\n",
      "Epoch 92/150\n",
      "2254/2254 [==============================] - 0s 47us/step - loss: 0.9125 - accuracy: 0.9281 - val_loss: 6.4270 - val_accuracy: 0.9634\n",
      "Epoch 93/150\n",
      "2254/2254 [==============================] - 0s 49us/step - loss: 0.3060 - accuracy: 0.9219 - val_loss: 6.3883 - val_accuracy: 0.9634\n",
      "Epoch 94/150\n",
      "2254/2254 [==============================] - 0s 60us/step - loss: 0.3611 - accuracy: 0.9271 - val_loss: 6.2594 - val_accuracy: 0.9634\n",
      "Epoch 95/150\n",
      "2254/2254 [==============================] - 0s 68us/step - loss: 0.3232 - accuracy: 0.9280 - val_loss: 6.2269 - val_accuracy: 0.9645\n",
      "Epoch 96/150\n",
      "2254/2254 [==============================] - 0s 57us/step - loss: 0.2787 - accuracy: 0.9271 - val_loss: 6.1085 - val_accuracy: 0.9634\n",
      "Epoch 97/150\n",
      "2254/2254 [==============================] - 0s 35us/step - loss: 0.3350 - accuracy: 0.9281 - val_loss: 5.9007 - val_accuracy: 0.9639\n",
      "Epoch 98/150\n",
      "2254/2254 [==============================] - 0s 35us/step - loss: 0.2981 - accuracy: 0.9290 - val_loss: 5.8234 - val_accuracy: 0.9634\n",
      "Epoch 99/150\n",
      "2254/2254 [==============================] - 0s 36us/step - loss: 0.2537 - accuracy: 0.9339 - val_loss: 5.8101 - val_accuracy: 0.9634\n",
      "Epoch 100/150\n",
      "2254/2254 [==============================] - 0s 37us/step - loss: 0.2907 - accuracy: 0.9280 - val_loss: 5.7741 - val_accuracy: 0.9634\n",
      "Epoch 101/150\n",
      "2254/2254 [==============================] - 0s 34us/step - loss: 0.3754 - accuracy: 0.9342 - val_loss: 5.6155 - val_accuracy: 0.9634\n",
      "Epoch 102/150\n",
      "2254/2254 [==============================] - 0s 33us/step - loss: 0.2369 - accuracy: 0.9320 - val_loss: 5.5727 - val_accuracy: 0.9634\n",
      "Epoch 103/150\n",
      "2254/2254 [==============================] - 0s 34us/step - loss: 0.4433 - accuracy: 0.9299 - val_loss: 5.4770 - val_accuracy: 0.9634\n",
      "Epoch 104/150\n",
      "2254/2254 [==============================] - 0s 37us/step - loss: 0.3012 - accuracy: 0.9321 - val_loss: 5.3420 - val_accuracy: 0.9634\n",
      "Epoch 105/150\n",
      "2254/2254 [==============================] - 0s 35us/step - loss: 0.2464 - accuracy: 0.9253 - val_loss: 5.3314 - val_accuracy: 0.9634\n",
      "Epoch 106/150\n",
      "2254/2254 [==============================] - 0s 33us/step - loss: 0.2856 - accuracy: 0.9327 - val_loss: 5.2797 - val_accuracy: 0.9634\n",
      "Epoch 107/150\n",
      "2254/2254 [==============================] - 0s 34us/step - loss: 0.2311 - accuracy: 0.9326 - val_loss: 5.2372 - val_accuracy: 0.9634\n",
      "Epoch 108/150\n",
      "2254/2254 [==============================] - 0s 33us/step - loss: 0.2341 - accuracy: 0.9324 - val_loss: 5.2266 - val_accuracy: 0.9634\n",
      "Epoch 109/150\n",
      "2254/2254 [==============================] - 0s 35us/step - loss: 2.3738 - accuracy: 0.9277 - val_loss: 4.5801 - val_accuracy: 0.9645\n",
      "Epoch 110/150\n",
      "2254/2254 [==============================] - 0s 35us/step - loss: 0.3082 - accuracy: 0.9296 - val_loss: 3.6663 - val_accuracy: 0.9634\n",
      "Epoch 111/150\n",
      "2254/2254 [==============================] - 0s 32us/step - loss: 0.2084 - accuracy: 0.9374 - val_loss: 3.6184 - val_accuracy: 0.9634\n"
     ]
    },
    {
     "name": "stdout",
     "output_type": "stream",
     "text": [
      "Epoch 112/150\n",
      "2254/2254 [==============================] - 0s 32us/step - loss: 0.2379 - accuracy: 0.9349 - val_loss: 3.5732 - val_accuracy: 0.9622\n",
      "Epoch 113/150\n",
      "2254/2254 [==============================] - 0s 33us/step - loss: 0.1990 - accuracy: 0.9346 - val_loss: 3.5727 - val_accuracy: 0.9645\n",
      "Epoch 114/150\n",
      "2254/2254 [==============================] - 0s 35us/step - loss: 0.2339 - accuracy: 0.9352 - val_loss: 3.5541 - val_accuracy: 0.9639\n",
      "Epoch 115/150\n",
      "2254/2254 [==============================] - 0s 67us/step - loss: 1.1405 - accuracy: 0.9348 - val_loss: 3.3817 - val_accuracy: 0.9634\n",
      "Epoch 116/150\n",
      "2254/2254 [==============================] - 0s 32us/step - loss: 0.2234 - accuracy: 0.9364 - val_loss: 3.3487 - val_accuracy: 0.9634\n",
      "Epoch 117/150\n",
      "2254/2254 [==============================] - 0s 31us/step - loss: 0.2166 - accuracy: 0.9330 - val_loss: 3.3306 - val_accuracy: 0.9634\n",
      "Epoch 118/150\n",
      "2254/2254 [==============================] - 0s 34us/step - loss: 0.2934 - accuracy: 0.9326 - val_loss: 3.2298 - val_accuracy: 0.9645\n",
      "Epoch 119/150\n",
      "2254/2254 [==============================] - 0s 34us/step - loss: 0.4752 - accuracy: 0.9382 - val_loss: 2.8570 - val_accuracy: 0.9645\n",
      "Epoch 120/150\n",
      "2254/2254 [==============================] - 0s 32us/step - loss: 0.3081 - accuracy: 0.9348 - val_loss: 2.7953 - val_accuracy: 0.9634\n",
      "Epoch 121/150\n",
      "2254/2254 [==============================] - 0s 32us/step - loss: 0.2325 - accuracy: 0.9369 - val_loss: 2.8518 - val_accuracy: 0.9645\n",
      "Epoch 122/150\n",
      "2254/2254 [==============================] - 0s 32us/step - loss: 0.2910 - accuracy: 0.9342 - val_loss: 2.8432 - val_accuracy: 0.9645\n",
      "Epoch 123/150\n",
      "2254/2254 [==============================] - 0s 34us/step - loss: 0.1821 - accuracy: 0.9366 - val_loss: 2.8472 - val_accuracy: 0.9639\n",
      "Epoch 124/150\n",
      "2254/2254 [==============================] - 0s 33us/step - loss: 0.2148 - accuracy: 0.9346 - val_loss: 2.7973 - val_accuracy: 0.9645\n",
      "Epoch 125/150\n",
      "2254/2254 [==============================] - 0s 31us/step - loss: 0.2246 - accuracy: 0.9293 - val_loss: 2.5469 - val_accuracy: 0.9645\n",
      "Epoch 126/150\n",
      "2254/2254 [==============================] - 0s 33us/step - loss: 0.1999 - accuracy: 0.9315 - val_loss: 2.4863 - val_accuracy: 0.9645\n",
      "Epoch 127/150\n",
      "2254/2254 [==============================] - 0s 31us/step - loss: 0.1797 - accuracy: 0.9408 - val_loss: 2.4850 - val_accuracy: 0.9634\n",
      "Epoch 128/150\n",
      "2254/2254 [==============================] - 0s 34us/step - loss: 3.0769 - accuracy: 0.9326 - val_loss: 2.4021 - val_accuracy: 0.9634\n",
      "Epoch 129/150\n",
      "2254/2254 [==============================] - 0s 30us/step - loss: 0.2065 - accuracy: 0.9295 - val_loss: 2.3629 - val_accuracy: 0.9645\n",
      "Epoch 130/150\n",
      "2254/2254 [==============================] - 0s 35us/step - loss: 0.1994 - accuracy: 0.9354 - val_loss: 2.3532 - val_accuracy: 0.9645\n",
      "Epoch 131/150\n",
      "2254/2254 [==============================] - 0s 33us/step - loss: 0.2077 - accuracy: 0.9354 - val_loss: 2.3015 - val_accuracy: 0.9645\n",
      "Epoch 132/150\n",
      "2254/2254 [==============================] - 0s 36us/step - loss: 0.2101 - accuracy: 0.9326 - val_loss: 2.2730 - val_accuracy: 0.9645\n",
      "Epoch 133/150\n",
      "2254/2254 [==============================] - 0s 34us/step - loss: 0.1932 - accuracy: 0.9407 - val_loss: 2.2556 - val_accuracy: 0.9645\n",
      "Epoch 134/150\n",
      "2254/2254 [==============================] - 0s 33us/step - loss: 0.1997 - accuracy: 0.9382 - val_loss: 2.2352 - val_accuracy: 0.9645\n",
      "Epoch 135/150\n",
      "2254/2254 [==============================] - 0s 33us/step - loss: 0.2764 - accuracy: 0.9423 - val_loss: 2.1020 - val_accuracy: 0.9639\n",
      "Epoch 136/150\n",
      "2254/2254 [==============================] - 0s 32us/step - loss: 0.2004 - accuracy: 0.9398 - val_loss: 2.0072 - val_accuracy: 0.9645\n",
      "Epoch 137/150\n",
      "2254/2254 [==============================] - 0s 34us/step - loss: 0.3542 - accuracy: 0.9361 - val_loss: 1.7815 - val_accuracy: 0.9645\n",
      "Epoch 138/150\n",
      "2254/2254 [==============================] - 0s 32us/step - loss: 0.8292 - accuracy: 0.9351 - val_loss: 1.8379 - val_accuracy: 0.9645\n",
      "Epoch 139/150\n",
      "2254/2254 [==============================] - 0s 33us/step - loss: 0.2104 - accuracy: 0.9371 - val_loss: 1.8286 - val_accuracy: 0.9645\n",
      "Epoch 140/150\n",
      "2254/2254 [==============================] - 0s 33us/step - loss: 0.1911 - accuracy: 0.9332 - val_loss: 1.7896 - val_accuracy: 0.9645\n",
      "Epoch 141/150\n",
      "2254/2254 [==============================] - 0s 32us/step - loss: 0.1927 - accuracy: 0.9346 - val_loss: 1.7943 - val_accuracy: 0.9645\n",
      "Epoch 142/150\n",
      "2254/2254 [==============================] - 0s 35us/step - loss: 0.2357 - accuracy: 0.9342 - val_loss: 1.7260 - val_accuracy: 0.9645\n",
      "Epoch 143/150\n",
      "2254/2254 [==============================] - 0s 32us/step - loss: 0.4386 - accuracy: 0.9360 - val_loss: 1.7277 - val_accuracy: 0.9645\n",
      "Epoch 144/150\n",
      "2254/2254 [==============================] - 0s 32us/step - loss: 0.2391 - accuracy: 0.9382 - val_loss: 1.6186 - val_accuracy: 0.9645\n",
      "Epoch 145/150\n",
      "2254/2254 [==============================] - 0s 38us/step - loss: 0.1955 - accuracy: 0.9425 - val_loss: 1.5694 - val_accuracy: 0.9645\n",
      "Epoch 146/150\n",
      "2254/2254 [==============================] - 0s 35us/step - loss: 0.1805 - accuracy: 0.9451 - val_loss: 1.5070 - val_accuracy: 0.9645\n",
      "Epoch 147/150\n",
      "2254/2254 [==============================] - 0s 34us/step - loss: 0.1777 - accuracy: 0.9377 - val_loss: 1.5244 - val_accuracy: 0.9645\n",
      "Epoch 148/150\n",
      "2254/2254 [==============================] - 0s 34us/step - loss: 0.2825 - accuracy: 0.9404 - val_loss: 1.4103 - val_accuracy: 0.9645\n",
      "Epoch 149/150\n",
      "2254/2254 [==============================] - 0s 32us/step - loss: 0.2274 - accuracy: 0.9354 - val_loss: 1.1946 - val_accuracy: 0.9645\n",
      "Epoch 150/150\n",
      "2254/2254 [==============================] - 0s 34us/step - loss: 0.2802 - accuracy: 0.9416 - val_loss: 1.1311 - val_accuracy: 0.9645\n"
     ]
    }
   ],
   "source": [
    "epoch_n = 150\n",
    "history = model.fit(X_train, y_train_e, batch_size=60, epochs=epoch_n, verbose=1,\\\n",
    " validation_data=(X_test, y_test_e))"
   ]
  },
  {
   "cell_type": "code",
   "execution_count": 22,
   "metadata": {},
   "outputs": [
    {
     "name": "stdout",
     "output_type": "stream",
     "text": [
      "['loss', 'val_accuracy', 'val_loss', 'accuracy']\n"
     ]
    },
    {
     "data": {
      "image/png": "[encoded data removed]",
      "text/plain": [
       "<Figure size 432x288 with 1 Axes>"
      ]
     },
     "metadata": {
      "needs_background": "light"
     },
     "output_type": "display_data"
    },
    {
     "data": {
      "image/png": "[encoded data removed]",
      "text/plain": [
       "<Figure size 432x288 with 1 Axes>"
      ]
     },
     "metadata": {
      "needs_background": "light"
     },
     "output_type": "display_data"
    }
   ],
   "source": [
    "import matplotlib.pyplot as plt\n",
    "get_ipython().magic(u'matplotlib inline')\n",
    "print(history.history.keys())\n",
    "# summarize history for accuracy\n",
    "plt.plot(history.history['accuracy'])\n",
    "plt.plot(history.history['val_accuracy'])\n",
    "plt.title('model accuracy')\n",
    "plt.ylabel('accuracy')\n",
    "plt.xlabel('epoch')\n",
    "plt.legend(['train', 'test'], loc='upper left')\n",
    "plt.show()\n",
    "# summarize history for loss\n",
    "plt.plot(history.history['loss'])\n",
    "plt.plot(history.history['val_loss'])\n",
    "plt.title('model loss')\n",
    "plt.ylabel('loss')\n",
    "plt.xlabel('epoch')\n",
    "plt.legend(['train', 'test'], loc='upper left')\n",
    "plt.show()"
   ]
  },
  {
   "cell_type": "code",
   "execution_count": 23,
   "metadata": {},
   "outputs": [
    {
     "name": "stdout",
     "output_type": "stream",
     "text": [
      "Model: \"sequential_2\"\n",
      "_________________________________________________________________\n",
      "Layer (type)                 Output Shape              Param #   \n",
      "=================================================================\n",
      "dense_4 (Dense)              (None, 32)                256       \n",
      "_________________________________________________________________\n",
      "dropout_3 (Dropout)          (None, 32)                0         \n",
      "_________________________________________________________________\n",
      "dense_5 (Dense)              (None, 32)                1056      \n",
      "_________________________________________________________________\n",
      "dropout_4 (Dropout)          (None, 32)                0         \n",
      "_________________________________________________________________\n",
      "dense_6 (Dense)              (None, 3)                 99        \n",
      "=================================================================\n",
      "Total params: 1,411\n",
      "Trainable params: 1,411\n",
      "Non-trainable params: 0\n",
      "_________________________________________________________________\n",
      "None\n"
     ]
    }
   ],
   "source": [
    "print model.summary()"
   ]
  },
  {
   "cell_type": "code",
   "execution_count": 24,
   "metadata": {},
   "outputs": [],
   "source": [
    "y_pred = model.predict(X_test)\n",
    "pred = list()\n",
    "for i in range(len(y_pred)):\n",
    "    pred.append(np.argmax(y_pred[i]))\n",
    "#Converting one hot encoded test label to label\n",
    "test = list()\n",
    "for i in range(len(y_test)):\n",
    "    test.append(np.argmax(y_test[i]))"
   ]
  },
  {
   "cell_type": "code",
   "execution_count": 25,
   "metadata": {},
   "outputs": [
    {
     "name": "stdout",
     "output_type": "stream",
     "text": [
      "('Accuracy is:', 52.4822695035461)\n"
     ]
    }
   ],
   "source": [
    "from sklearn.metrics import accuracy_score\n",
    "a = accuracy_score(pred,test)\n",
    "print('Accuracy is:', a*100)"
   ]
  },
  {
   "cell_type": "code",
   "execution_count": 29,
   "metadata": {},
   "outputs": [],
   "source": [
    "from sklearn.metrics import confusion_matrix, roc_curve, auc\n",
    "def plot_roc_curve(y_test, y_pred):\n",
    "    false_positive_rate, true_positive_rate, thresholds = roc_curve(y_test, y_pred)\n",
    "\n",
    "    print \"False Positive rate: \",false_positive_rate\n",
    "    print \"True Positive rate: \",true_positive_rate\n",
    "\n",
    "\n",
    "    roc_auc = auc(false_positive_rate, true_positive_rate)\n",
    "\n",
    "    plt.title('Receiver Operating Characteristic')\n",
    "    plt.plot(false_positive_rate, true_positive_rate, 'b',\n",
    "    label='AUC = %0.2f'% roc_auc)\n",
    "    plt.legend(loc='lower right')\n",
    "    plt.plot([0,1],[0,1],'r--')\n",
    "    plt.xlim([-0.1,1.2])\n",
    "    plt.ylim([-0.1,1.2])\n",
    "    plt.ylabel('True Positive Rate')\n",
    "    plt.xlabel('False Positive Rate')\n",
    "    plt.show()"
   ]
  },
  {
   "cell_type": "code",
   "execution_count": 46,
   "metadata": {},
   "outputs": [
    {
     "data": {
      "text/plain": [
       "2254"
      ]
     },
     "execution_count": 46,
     "metadata": {},
     "output_type": "execute_result"
    }
   ],
   "source": [
    "from sklearn.metrics import roc_curve\n",
    "y_pred_keras = model.predict(X_test).ravel()\n",
    "#fpr_keras, tpr_keras, thresholds_keras = roc_curve(y_test, y_pred_keras)\n",
    "#len(y_pred_keras)\n",
    "len(y_test)"
   ]
  },
  {
   "cell_type": "code",
   "execution_count": null,
   "metadata": {},
   "outputs": [],
   "source": []
  }
 ],
 "metadata": {
  "kernelspec": {
   "display_name": "Python 2",
   "language": "python",
   "name": "python2"
  },
  "language_info": {
   "codemirror_mode": {
    "name": "ipython",
    "version": 2
   },
   "file_extension": ".py",
   "mimetype": "text/x-python",
   "name": "python",
   "nbconvert_exporter": "python",
   "pygments_lexer": "ipython2",
   "version": "2.7.16"
  }
 },
 "nbformat": 4,
 "nbformat_minor": 2
}
